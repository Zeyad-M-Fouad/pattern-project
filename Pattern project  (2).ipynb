{
 "cells": [
  {
   "cell_type": "markdown",
   "id": "225352e3",
   "metadata": {},
   "source": [
    "# Library imports : "
   ]
  },
  {
   "cell_type": "code",
   "execution_count": 1,
   "id": "a4dd8537",
   "metadata": {},
   "outputs": [],
   "source": [
    "import pandas as pd\n",
    "from sklearn.model_selection import train_test_split\n",
    "from sklearn.preprocessing import StandardScaler\n",
    "from sklearn.linear_model import LogisticRegression\n",
    "from sklearn import metrics\n",
    "from sklearn.metrics import accuracy_score, classification_report, confusion_matrix\n",
    "import matplotlib.pyplot as plt\n",
    "import numpy as np\n",
    "import seaborn as sns\n",
    "from sklearn.ensemble import RandomForestClassifier\n",
    "from sklearn.svm import SVC\n",
    "from sklearn.tree import DecisionTreeClassifier\n",
    "from sklearn.naive_bayes import GaussianNB\n",
    "from sklearn.neighbors import KNeighborsClassifier\n",
    "from sklearn.model_selection import cross_val_score"
   ]
  },
  {
   "cell_type": "code",
   "execution_count": 2,
   "id": "f5c67dda",
   "metadata": {},
   "outputs": [],
   "source": [
    "#Importing warnings library to ignore useless warnings\n",
    "import warnings\n",
    "warnings.filterwarnings('ignore')"
   ]
  },
  {
   "cell_type": "markdown",
   "id": "5dc0aa3e",
   "metadata": {},
   "source": [
    "# Dataset import :"
   ]
  },
  {
   "cell_type": "code",
   "execution_count": 3,
   "id": "60755713",
   "metadata": {
    "scrolled": true
   },
   "outputs": [],
   "source": [
    "#importing dataset\n",
    "data = \"D:\\College\\Semster 2\\Pattern recognition\\Cocktail Juice Quality_Training Dataset.csv\"\n",
    "df_raw = pd.read_csv(data)"
   ]
  },
  {
   "cell_type": "markdown",
   "id": "cb66c009",
   "metadata": {},
   "source": [
    "# Outlier Handling :"
   ]
  },
  {
   "cell_type": "code",
   "execution_count": 4,
   "id": "4a0ef955",
   "metadata": {},
   "outputs": [],
   "source": [
    "#outlier detection\n",
    "def outliers(df, ft):\n",
    "    Q1 = df[ft].quantile(0.25)\n",
    "    Q3 = df[ft].quantile(0.75)\n",
    "    IQR = Q3 - Q1\n",
    "    \n",
    "    lower_bound = Q1 - 1.5 * IQR\n",
    "    upper_bound = Q3 + 1.5 * IQR\n",
    "    \n",
    "    ls = df.index[ (df[ft] < lower_bound) | (df[ft] > upper_bound) ]\n",
    "    \n",
    "    return ls"
   ]
  },
  {
   "cell_type": "code",
   "execution_count": 5,
   "id": "c14e5010",
   "metadata": {},
   "outputs": [],
   "source": [
    "# outlier handling\n",
    "index_list = []\n",
    "for feature in ['Fruit quality','fixed acidity', 'citric acid',\n",
    "                'Percentage of sweeteners','chlorides','Calories','density','pH','sulphates']:\n",
    "    index_list.extend(outliers(df_raw, feature))\n",
    "    \n",
    "def remove(df, ls):\n",
    "    ls = sorted(set(ls))\n",
    "    df = df.drop(ls)\n",
    "    return df\n",
    "df_cleaned = remove(df_raw, index_list)"
   ]
  },
  {
   "cell_type": "code",
   "execution_count": 6,
   "id": "44908920",
   "metadata": {},
   "outputs": [],
   "source": [
    "#choosing targets and features\n",
    "feature_cols = ['Fruit quality','fixed acidity', 'citric acid',\n",
    "                'Percentage of sweeteners','chlorides','Calories','density','pH','sulphates']\n",
    "X = df_cleaned[feature_cols] # Features\n",
    "y = df_cleaned.quality # Target variable"
   ]
  },
  {
   "cell_type": "code",
   "execution_count": 7,
   "id": "7b3c93e2",
   "metadata": {
    "scrolled": true
   },
   "outputs": [
    {
     "data": {
      "text/plain": [
       "Fruit quality               0\n",
       "fixed acidity               0\n",
       "citric acid                 0\n",
       "Percentage of sweeteners    0\n",
       "chlorides                   0\n",
       "Calories                    0\n",
       "density                     0\n",
       "pH                          0\n",
       "sulphates                   0\n",
       "quality                     0\n",
       "dtype: int64"
      ]
     },
     "execution_count": 7,
     "metadata": {},
     "output_type": "execute_result"
    }
   ],
   "source": [
    "# checking for null values\n",
    "df_cleaned.isnull().sum()"
   ]
  },
  {
   "cell_type": "markdown",
   "id": "412474cf",
   "metadata": {},
   "source": [
    "# model selection :"
   ]
  },
  {
   "cell_type": "code",
   "execution_count": 8,
   "id": "3827d0c6",
   "metadata": {},
   "outputs": [],
   "source": [
    "#train test split\n",
    "X_train, X_test, y_train, y_test = train_test_split(X, y, test_size=0.20, random_state=8)"
   ]
  },
  {
   "cell_type": "code",
   "execution_count": 9,
   "id": "521858a9",
   "metadata": {},
   "outputs": [],
   "source": [
    "scaler = StandardScaler()\n",
    "X_train = scaler.fit_transform(X_train)\n",
    "X_test = scaler.transform(X_test)"
   ]
  },
  {
   "cell_type": "markdown",
   "id": "b820c655",
   "metadata": {},
   "source": [
    "# Model Implementation :"
   ]
  },
  {
   "cell_type": "code",
   "execution_count": 10,
   "id": "12715446",
   "metadata": {
    "scrolled": false
   },
   "outputs": [
    {
     "data": {
      "text/plain": [
       "array([[ 0,  3,  2,  0,  0],\n",
       "       [ 0, 74, 18,  1,  0],\n",
       "       [ 0, 24, 50,  5,  0],\n",
       "       [ 0,  1, 13,  7,  0],\n",
       "       [ 0,  0,  0,  1,  0]], dtype=int64)"
      ]
     },
     "execution_count": 10,
     "metadata": {},
     "output_type": "execute_result"
    }
   ],
   "source": [
    "#Implementing Logistic Regression\n",
    "logreg = LogisticRegression(solver='lbfgs',max_iter=100000)\n",
    "logreg.fit(X_train, y_train)\n",
    "y_pred = logreg.predict(X_test)\n",
    "cnf_matrix = metrics.confusion_matrix(y_test, y_pred)\n",
    "cnf_matrix"
   ]
  },
  {
   "cell_type": "code",
   "execution_count": 11,
   "id": "a26a226a",
   "metadata": {},
   "outputs": [
    {
     "data": {
      "text/plain": [
       "65.82914572864321"
      ]
     },
     "execution_count": 11,
     "metadata": {},
     "output_type": "execute_result"
    }
   ],
   "source": [
    "#logistic regression accuracy\n",
    "accuracy_score_logreg = accuracy_score(y_test,y_pred)\n",
    "accuracy_score_logreg*100"
   ]
  },
  {
   "cell_type": "code",
   "execution_count": 12,
   "id": "46316e44",
   "metadata": {
    "scrolled": true
   },
   "outputs": [
    {
     "data": {
      "text/plain": [
       "Text(0.5, 257.44, 'Predicted label')"
      ]
     },
     "execution_count": 12,
     "metadata": {},
     "output_type": "execute_result"
    },
    {
     "data": {
      "image/png": "[encoded data removed]",
      "text/plain": [
       "<Figure size 432x288 with 2 Axes>"
      ]
     },
     "metadata": {
      "needs_background": "light"
     },
     "output_type": "display_data"
    }
   ],
   "source": [
    "# confusion matrix chart\n",
    "class_names=[0,1]\n",
    "fig, ax = plt.subplots()\n",
    "tick_marks = np.arange(len(class_names))\n",
    "plt.xticks(tick_marks, class_names)\n",
    "plt.yticks(tick_marks, class_names)\n",
    "sns.heatmap(pd.DataFrame(cnf_matrix), annot=True, cmap=\"YlGnBu\" ,fmt='g')\n",
    "ax.xaxis.set_label_position(\"top\")\n",
    "plt.tight_layout()\n",
    "plt.title('Confusion matrix', y=1.1)\n",
    "plt.ylabel('Actual label')\n",
    "plt.xlabel('Predicted label')"
   ]
  },
  {
   "cell_type": "code",
   "execution_count": 13,
   "id": "28a4954c",
   "metadata": {},
   "outputs": [],
   "source": [
    "#randomforest\n",
    "#creating model object\n",
    "# model_rf = RandomForestClassifier(n_estimators=300, max_depth=10, min_samples_split=10,\n",
    "#                            min_samples_leaf=2, max_features=3, bootstrap=False)\n",
    "model_rf = RandomForestClassifier()\n",
    "#default hyperparameters worked best\n",
    "#training model rf\n",
    "model_rf.fit(X_train,y_train)\n",
    "#making prediction\n",
    "pred_rf = model_rf.predict(X_test)\n",
    "\n",
    "# cm3 = confusion_matrix(y_test,pred_rf)\n",
    "# cm3"
   ]
  },
  {
   "cell_type": "code",
   "execution_count": 14,
   "id": "54cb9a7c",
   "metadata": {},
   "outputs": [
    {
     "data": {
      "text/plain": [
       "78.89447236180904"
      ]
     },
     "execution_count": 14,
     "metadata": {},
     "output_type": "execute_result"
    }
   ],
   "source": [
    "# random forest accuracy\n",
    "accuracy_score_rf = accuracy_score(y_test,pred_rf)\n",
    "accuracy_score_rf*100"
   ]
  },
  {
   "cell_type": "code",
   "execution_count": 15,
   "id": "af19b354",
   "metadata": {},
   "outputs": [
    {
     "data": {
      "text/plain": [
       "76.38190954773869"
      ]
     },
     "execution_count": 15,
     "metadata": {},
     "output_type": "execute_result"
    }
   ],
   "source": [
    "#SVM\n",
    "model_svc = SVC (C = 10, kernel = 'rbf', gamma = 0.6)\n",
    "#we used grid search to get the best hyperparameters\n",
    "model_svc.fit(X_train, y_train)\n",
    "model_svc.score(X_test, y_test)*100"
   ]
  },
  {
   "cell_type": "code",
   "execution_count": 16,
   "id": "14f3c450",
   "metadata": {
    "scrolled": true
   },
   "outputs": [
    {
     "data": {
      "text/plain": [
       "array([6], dtype=int64)"
      ]
     },
     "execution_count": 16,
     "metadata": {},
     "output_type": "execute_result"
    }
   ],
   "source": [
    "# predicting using svm \n",
    "# and you can change the model_svc with another model variable for different model predictions\n",
    "model_svc.predict([[9.4,7.1,0,1.9,0.076,11,0.9978,3.51,0.56]])"
   ]
  },
  {
   "cell_type": "code",
   "execution_count": 17,
   "id": "eab3b772",
   "metadata": {},
   "outputs": [],
   "source": [
    "model_dt = DecisionTreeClassifier(max_depth = 4)\n",
    "model_dt.fit(X_train,y_train)\n",
    "#making prediction using Decision Tree\n",
    "pred_dt = model_dt.predict(X_test)"
   ]
  },
  {
   "cell_type": "code",
   "execution_count": 18,
   "id": "531661d2",
   "metadata": {},
   "outputs": [
    {
     "data": {
      "text/plain": [
       "60.30150753768844"
      ]
     },
     "execution_count": 18,
     "metadata": {},
     "output_type": "execute_result"
    }
   ],
   "source": [
    "#decision tree accuracy\n",
    "accuracy_score_dt = accuracy_score(y_test,pred_dt)\n",
    "accuracy_score_dt*100"
   ]
  },
  {
   "cell_type": "code",
   "execution_count": 19,
   "id": "cb5e9a57",
   "metadata": {},
   "outputs": [
    {
     "data": {
      "text/plain": [
       "array([[ 0,  2,  3,  0,  0],\n",
       "       [ 0, 59, 34,  0,  0],\n",
       "       [ 0, 20, 53,  6,  0],\n",
       "       [ 0,  3, 10,  8,  0],\n",
       "       [ 0,  0,  0,  1,  0]], dtype=int64)"
      ]
     },
     "execution_count": 19,
     "metadata": {},
     "output_type": "execute_result"
    }
   ],
   "source": [
    "#confusion matrix\n",
    "cm2 = confusion_matrix(y_test,pred_dt)\n",
    "cm2"
   ]
  },
  {
   "cell_type": "code",
   "execution_count": 20,
   "id": "411e3e2b",
   "metadata": {},
   "outputs": [
    {
     "name": "stdout",
     "output_type": "stream",
     "text": [
      "Accuracy: 61.30653266331658\n"
     ]
    }
   ],
   "source": [
    "#naive bayes\n",
    "model_nb = GaussianNB()\n",
    "model_nb.fit(X_train, y_train);\n",
    "nb_pred = model_nb.predict(X_test)\n",
    "accuray = accuracy_score(nb_pred, y_test)\n",
    "print(\"Accuracy:\", accuray*100)"
   ]
  },
  {
   "cell_type": "code",
   "execution_count": 21,
   "id": "f7424c6b",
   "metadata": {
    "scrolled": false
   },
   "outputs": [
    {
     "name": "stdout",
     "output_type": "stream",
     "text": [
      "Accuracy: 71.85929648241206\n"
     ]
    }
   ],
   "source": [
    "#K-neighbors classifier\n",
    "knn = KNeighborsClassifier(n_neighbors=1,weights='uniform')\n",
    "knn.fit(X_train, y_train)\n",
    "knn_pred = knn.predict(X_test)\n",
    "accuracy = accuracy_score(y_test, knn_pred)\n",
    "print(\"Accuracy:\", accuracy*100)"
   ]
  },
  {
   "cell_type": "code",
   "execution_count": null,
   "id": "2348c24e",
   "metadata": {},
   "outputs": [],
   "source": []
  }
 ],
 "metadata": {
  "kernelspec": {
   "display_name": "Python 3",
   "language": "python",
   "name": "python3"
  },
  "language_info": {
   "codemirror_mode": {
    "name": "ipython",
    "version": 3
   },
   "file_extension": ".py",
   "mimetype": "text/x-python",
   "name": "python",
   "nbconvert_exporter": "python",
   "pygments_lexer": "ipython3",
   "version": "3.8.8"
  }
 },
 "nbformat": 4,
 "nbformat_minor": 5
}
